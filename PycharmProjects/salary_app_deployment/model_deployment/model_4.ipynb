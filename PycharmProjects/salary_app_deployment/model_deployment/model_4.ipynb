{
  "nbformat": 4,
  "nbformat_minor": 0,
  "metadata": {
    "colab": {
      "provenance": [],
      "collapsed_sections": []
    },
    "kernelspec": {
      "name": "python3",
      "display_name": "Python 3"
    },
    "language_info": {
      "name": "python"
    }
  },
  "cells": [
    {
      "cell_type": "code",
      "execution_count": 1,
      "metadata": {
        "colab": {
          "base_uri": "https://localhost:8080/"
        },
        "id": "oULnXSzv1usV",
        "outputId": "9cfce565-0814-48a0-c66a-86cf98e2b7cc"
      },
      "outputs": [
        {
          "output_type": "stream",
          "name": "stdout",
          "text": [
            "Mounted at /content/drive\n"
          ]
        }
      ],
      "source": [
        "from google.colab import drive\n",
        "drive.mount('/content/drive')"
      ]
    },
    {
      "cell_type": "code",
      "source": [
        "#Simple linear regresion\n",
        "import numpy as np\n",
        "import matplotlib.pyplot as plt\n",
        "import pandas as pd\n",
        "from scipy.stats import pearsonr\n",
        "from sklearn.linear_model import LinearRegression\n",
        "from sklearn.model_selection import train_test_split\n",
        "from sklearn.metrics import r2_score,accuracy_score\n",
        "from sklearn.metrics import mean_squared_error\n",
        "\n",
        "import statsmodels.api as sm\n",
        "import statsmodels.formula.api as smf\n",
        "import pickle\n"
      ],
      "metadata": {
        "id": "FC7nu7eZ2trw"
      },
      "execution_count": 4,
      "outputs": []
    },
    {
      "cell_type": "code",
      "source": [
        "dataset = pd.read_csv('/content/drive/MyDrive/Sal_vs_Exp.csv')\n",
        "print(dataset)\n",
        "x = dataset[['Years of Experience']]\n",
        "y = dataset['Salary']"
      ],
      "metadata": {
        "colab": {
          "base_uri": "https://localhost:8080/"
        },
        "id": "tkurZt_32tu-",
        "outputId": "5ab02398-b733-415b-92ed-14ef4f2763e1"
      },
      "execution_count": 7,
      "outputs": [
        {
          "output_type": "stream",
          "name": "stdout",
          "text": [
            "      Years of Experience  Salary\n",
            "0                       0    1036\n",
            "1                       0    1041\n",
            "2                       0    1054\n",
            "3                       0    1069\n",
            "4                       0    1110\n",
            "...                   ...     ...\n",
            "4995                   29   99841\n",
            "4996                   29   99934\n",
            "4997                   29   99940\n",
            "4998                   29   99941\n",
            "4999                   29   99980\n",
            "\n",
            "[5000 rows x 2 columns]\n"
          ]
        }
      ]
    },
    {
      "cell_type": "code",
      "source": [
        "fig, ax = plt.subplots(figsize=(6, 3.84))\n",
        "\n",
        "dataset.plot(\n",
        "    x    = 'Years of Experience',\n",
        "    y    = 'Salary',\n",
        "    c    = 'firebrick',\n",
        "    kind = \"scatter\",\n",
        "    ax   = ax)\n",
        "\n",
        "ax.set_title('Salary distribution');\n",
        "plt.show()\n"
      ],
      "metadata": {
        "colab": {
          "base_uri": "https://localhost:8080/",
          "height": 287
        },
        "id": "m3PX5Xnv3W6t",
        "outputId": "d53cdb37-7c9d-4551-f5f5-ad250812aa08"
      },
      "execution_count": null,
      "outputs": [
        {
          "output_type": "display_data",
          "data": {
            "text/plain": [
              "<Figure size 432x276.48 with 1 Axes>"
            ],
            "image/png": "[encoded data removed]"
          },
          "metadata": {
            "needs_background": "light"
          }
        }
      ]
    },
    {
      "cell_type": "code",
      "source": [
        "corr_test = pearsonr(x = dataset['Years of Experience'], y =  dataset['Salary'])\n",
        "print(\"pearson's coeficient correlation: \", corr_test[0])\n",
        "print(\"P-value: \", corr_test[1])"
      ],
      "metadata": {
        "colab": {
          "base_uri": "https://localhost:8080/"
        },
        "id": "_YJvWAnq3W9l",
        "outputId": "b8ceb378-5dc1-455d-bf36-c20384c1d2fc"
      },
      "execution_count": 6,
      "outputs": [
        {
          "output_type": "stream",
          "name": "stdout",
          "text": [
            "pearson's coeficient correlation:  0.9992745685977932\n",
            "P-value:  0.0\n"
          ]
        }
      ]
    },
    {
      "cell_type": "markdown",
      "source": [
        "# **MODEL BUILDING**"
      ],
      "metadata": {
        "id": "9QXl6X8SGDri"
      }
    },
    {
      "cell_type": "code",
      "source": [
        "x_train, x_test, y_train, y_test = train_test_split(x.values.reshape(-1,1),\n",
        "                                                    y.values.reshape(-1,1),\n",
        "                                                    test_size = 1/3,\n",
        "                                                    random_state= 1234,\n",
        "                                                    shuffle=True)\n",
        "\n",
        "model = LinearRegression()\n",
        "model.fit(X= x_train.reshape(-1,1), y= y_train)"
      ],
      "metadata": {
        "colab": {
          "base_uri": "https://localhost:8080/"
        },
        "id": "e0-hpA9B3W_t",
        "outputId": "9e489ac3-af96-4d33-e05f-00c16dc5e9b5"
      },
      "execution_count": 8,
      "outputs": [
        {
          "output_type": "execute_result",
          "data": {
            "text/plain": [
              "LinearRegression()"
            ]
          },
          "metadata": {},
          "execution_count": 8
        }
      ]
    },
    {
      "cell_type": "code",
      "source": [
        "print(x_train.shape)\n",
        "print(y_train.shape)"
      ],
      "metadata": {
        "colab": {
          "base_uri": "https://localhost:8080/"
        },
        "id": "i0Pob7reFAK0",
        "outputId": "d636216f-967e-483d-f559-fecd158f8710"
      },
      "execution_count": 9,
      "outputs": [
        {
          "output_type": "stream",
          "name": "stdout",
          "text": [
            "(3333, 1)\n",
            "(3333, 1)\n"
          ]
        }
      ]
    },
    {
      "cell_type": "code",
      "source": [
        "print('intercept: ', model.intercept_)\n",
        "print('coeficiente: ', list(zip(x.columns,model.coef_.flatten(),)))\n",
        "print('R^2: ',model.score(x,y))\n",
        "print(\"==================================\")\n",
        "# model test error \n",
        "# ==============================================================================\n",
        "pred = model.predict(X = x_test)\n",
        "print(pred[0:3,])\n",
        "print(\"==================================\")\n",
        "rmse = mean_squared_error(\n",
        "        y_true  = y_test,\n",
        "        y_pred  = pred)\n",
        "print(\"\")\n",
        "print(f\"the (rmse) test error is: {rmse}\")"
      ],
      "metadata": {
        "colab": {
          "base_uri": "https://localhost:8080/"
        },
        "id": "9qNfmExj3XCc",
        "outputId": "cabca7fa-e8b8-4119-d8e5-5c6909c6f96a"
      },
      "execution_count": 10,
      "outputs": [
        {
          "output_type": "stream",
          "name": "stdout",
          "text": [
            "intercept:  [1928.24104939]\n",
            "coeficiente:  [('Years of Experience', 3343.4598406882665)]\n",
            "R^2:  0.9985486995191352\n",
            "==================================\n",
            "[[55423.5985004 ]\n",
            " [48736.67881903]\n",
            " [25332.45993421]]\n",
            "==================================\n",
            "\n",
            "the (rmse) test error is: 1223068.0310047166\n"
          ]
        },
        {
          "output_type": "stream",
          "name": "stderr",
          "text": [
            "/usr/local/lib/python3.7/dist-packages/sklearn/base.py:444: UserWarning: X has feature names, but LinearRegression was fitted without feature names\n",
            "  f\"X has feature names, but {self.__class__.__name__} was fitted without\"\n"
          ]
        }
      ]
    },
    {
      "cell_type": "code",
      "source": [
        "plt.scatter(x_test,y_test,color='red')\n",
        "plt.plot(x_test, pred)\n",
        "plt.show()"
      ],
      "metadata": {
        "colab": {
          "base_uri": "https://localhost:8080/",
          "height": 265
        },
        "id": "fNA9UZ6B3XE2",
        "outputId": "dd170008-2a92-4c20-bf5f-2833c5a12af9"
      },
      "execution_count": 11,
      "outputs": [
        {
          "output_type": "display_data",
          "data": {
            "text/plain": [
              "<Figure size 432x288 with 1 Axes>"
            ],
            "image/png": "[encoded data removed]"
          },
          "metadata": {
            "needs_background": "light"
          }
        }
      ]
    },
    {
      "cell_type": "code",
      "source": [
        "X_train = sm.add_constant(x_train, prepend=True)\n",
        "model2 = sm.OLS(endog=y_train, exog=X_train)\n",
        "model2 = model2.fit()\n",
        "print(model2.summary())"
      ],
      "metadata": {
        "colab": {
          "base_uri": "https://localhost:8080/"
        },
        "id": "cov8d_XH3XHe",
        "outputId": "0eb6b40e-f868-47e8-cc46-e3147df0cf9f"
      },
      "execution_count": 12,
      "outputs": [
        {
          "output_type": "stream",
          "name": "stdout",
          "text": [
            "                            OLS Regression Results                            \n",
            "==============================================================================\n",
            "Dep. Variable:                      y   R-squared:                       0.999\n",
            "Model:                            OLS   Adj. R-squared:                  0.999\n",
            "Method:                 Least Squares   F-statistic:                 2.287e+06\n",
            "Date:                Tue, 27 Sep 2022   Prob (F-statistic):               0.00\n",
            "Time:                        15:37:07   Log-Likelihood:                -28064.\n",
            "No. Observations:                3333   AIC:                         5.613e+04\n",
            "Df Residuals:                    3331   BIC:                         5.614e+04\n",
            "Df Model:                           1                                         \n",
            "Covariance Type:            nonrobust                                         \n",
            "==============================================================================\n",
            "                 coef    std err          t      P>|t|      [0.025      0.975]\n",
            "------------------------------------------------------------------------------\n",
            "const       1928.2410     37.272     51.735      0.000    1855.163    2001.319\n",
            "x1          3343.4598      2.211   1512.261      0.000    3339.125    3347.795\n",
            "==============================================================================\n",
            "Omnibus:                      182.542   Durbin-Watson:                   1.960\n",
            "Prob(Omnibus):                  0.000   Jarque-Bera (JB):               70.101\n",
            "Skew:                          -0.013   Prob(JB):                     5.99e-16\n",
            "Kurtosis:                       2.290   Cond. No.                         33.1\n",
            "==============================================================================\n",
            "\n",
            "Notes:\n",
            "[1] Standard Errors assume that the covariance matrix of the errors is correctly specified.\n"
          ]
        }
      ]
    },
    {
      "cell_type": "markdown",
      "source": [
        "# **SAVE & LOAD THE MODEL**"
      ],
      "metadata": {
        "id": "Y2VRCkfIF1Yy"
      }
    },
    {
      "cell_type": "code",
      "source": [
        "linear_reg = open(\"reg_model.pkl\",\"wb\")          \n",
        "pickle.dump(model,linear_reg)           \n",
        "linear_reg.close()      "
      ],
      "metadata": {
        "id": "JuVu5Yph9tr8"
      },
      "execution_count": 13,
      "outputs": []
    },
    {
      "cell_type": "code",
      "source": [
        "salary_model = open(\"reg_model.pkl\",\"rb\")           \n",
        "s_model = pickle.load(salary_model)           \n",
        "s_model"
      ],
      "metadata": {
        "colab": {
          "base_uri": "https://localhost:8080/"
        },
        "id": "JjRK475P-XgR",
        "outputId": "87a8c460-cfd1-4d75-a8ab-1ba661bc024d"
      },
      "execution_count": 14,
      "outputs": [
        {
          "output_type": "execute_result",
          "data": {
            "text/plain": [
              "LinearRegression()"
            ]
          },
          "metadata": {},
          "execution_count": 14
        }
      ]
    },
    {
      "cell_type": "code",
      "source": [
        "exp = np.array([[2], [7]])\n",
        "s_model.predict(exp)"
      ],
      "metadata": {
        "colab": {
          "base_uri": "https://localhost:8080/"
        },
        "id": "3E795-ud-Xiv",
        "outputId": "7f2916cf-a4d2-45ed-c024-7a574797d821"
      },
      "execution_count": 15,
      "outputs": [
        {
          "output_type": "execute_result",
          "data": {
            "text/plain": [
              "array([[ 8615.16073077],\n",
              "       [25332.45993421]])"
            ]
          },
          "metadata": {},
          "execution_count": 15
        }
      ]
    },
    {
      "cell_type": "code",
      "source": [
        "e = np.array([10])\n",
        "s_model.predict(e.reshape(1, -1))"
      ],
      "metadata": {
        "colab": {
          "base_uri": "https://localhost:8080/"
        },
        "id": "hhvGFflmEQbs",
        "outputId": "80d2f4e1-a925-4c6e-9bf9-f3a407f37305"
      },
      "execution_count": 16,
      "outputs": [
        {
          "output_type": "execute_result",
          "data": {
            "text/plain": [
              "array([[35362.83945627]])"
            ]
          },
          "metadata": {},
          "execution_count": 16
        }
      ]
    },
    {
      "cell_type": "code",
      "source": [],
      "metadata": {
        "id": "P9yiN3wNmU6-"
      },
      "execution_count": null,
      "outputs": []
    }
  ]
}